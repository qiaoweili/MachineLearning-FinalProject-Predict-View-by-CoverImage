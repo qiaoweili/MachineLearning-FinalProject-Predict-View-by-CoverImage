{
 "cells": [
  {
   "cell_type": "markdown",
   "metadata": {},
   "source": [
    "# Input own cover image to predict range of views"
   ]
  },
  {
   "cell_type": "code",
   "execution_count": 2,
   "metadata": {},
   "outputs": [],
   "source": [
    "from tensorflow.keras.layers import Conv2D,Flatten,Dense,MaxPool2D,BatchNormalization,GlobalAveragePooling2D\n",
    "from tensorflow.keras.applications.resnet50 import preprocess_input, decode_predictions\n",
    "from tensorflow.keras.preprocessing.image import ImageDataGenerator,load_img\n",
    "from tensorflow.keras.applications.resnet50 import ResNet50\n",
    "from tensorflow.keras.preprocessing import image\n",
    "from tensorflow.keras.models import Sequential\n",
    "from tensorflow.keras.models import Model\n",
    "import matplotlib.pyplot as plt\n",
    "import numpy as np"
   ]
  },
  {
   "cell_type": "markdown",
   "metadata": {},
   "source": [
    "input image into folder"
   ]
  },
  {
   "cell_type": "code",
   "execution_count": 4,
   "metadata": {
    "scrolled": false
   },
   "outputs": [
    {
     "name": "stdout",
     "output_type": "stream",
     "text": [
      "{'test_img': <torch.utils.data.dataloader.DataLoader object at 0x00000214AB54FA90>}\n",
      "test_img\n",
      "Found 1 images belonging to 7 classes.\n"
     ]
    }
   ],
   "source": [
    "import matplotlib.pyplot as plt\n",
    "\n",
    "from PIL import Image\n",
    "import os\n",
    "import torch\n",
    "from torchvision import datasets, transforms\n",
    "import torchvision.models as models\n",
    "img_height,img_width=(224,224)\n",
    "batch_size = 32\n",
    "t_img_transform={\n",
    "    'test_img': transforms.Compose([\n",
    "    transforms.Resize(256),\n",
    "    transforms.CenterCrop(224),\n",
    "    transforms.ToTensor(),\n",
    "    transforms.Normalize([0.485, 0.456, 0.406], [0.229, 0.224, 0.225])\n",
    "    ]),\n",
    "}\n",
    "\n",
    "tdata_dir = './coverimage'\n",
    "timage_datasets = {x: datasets.ImageFolder(os.path.join(tdata_dir, x),t_img_transform[x]) for x in ['test_img']}\n",
    "tdataloaders    = {x: torch.utils.data.DataLoader(timage_datasets[x], batch_size=1, shuffle=True, num_workers=4) for x in ['test_img']}\n",
    "\n",
    "tdataset_sizes  = {x: len(timage_datasets[x]) for x in ['test_img']}\n",
    "tclass_names    = timage_datasets['test_img'].classes\n",
    "\n",
    "print(tdataloaders)\n",
    "for i in tdataloaders:\n",
    "    print(i)\n",
    "in_data_dir = r\"./coverimage/test_img\"    \n",
    "in_datagen = ImageDataGenerator(preprocessing_function=preprocess_input,\n",
    "                                  shear_range=0.2,\n",
    "                                  zoom_range=0.2,\n",
    "                                  horizontal_flip=True,)\n",
    "\n",
    "in_generator = in_datagen.flow_from_directory(in_data_dir,\n",
    "                                                   target_size=(img_height,img_width),\n",
    "                                                   batch_size=batch_size,\n",
    "                                                   class_mode=\"categorical\",\n",
    "                                                   subset=\"training\")#set as training data                                  "
   ]
  },
  {
   "cell_type": "markdown",
   "metadata": {},
   "source": [
    "output the predicted range of views"
   ]
  },
  {
   "cell_type": "code",
   "execution_count": 9,
   "metadata": {},
   "outputs": [
    {
     "name": "stdout",
     "output_type": "stream",
     "text": [
      "WARNING:tensorflow:5 out of the last 5 calls to <function Model.make_predict_function.<locals>.predict_function at 0x00000214B244D940> triggered tf.function retracing. Tracing is expensive and the excessive number of tracings could be due to (1) creating @tf.function repeatedly in a loop, (2) passing tensors with different shapes, (3) passing Python objects instead of tensors. For (1), please define your @tf.function outside of the loop. For (2), @tf.function has experimental_relax_shapes=True option that relaxes argument shapes that can avoid unnecessary retracing. For (3), please refer to https://www.tensorflow.org/tutorials/customization/performance#python_or_tensor_args and https://www.tensorflow.org/api_docs/python/tf/function for  more details.\n",
      "predict class: ['less_than_100']\n"
     ]
    }
   ],
   "source": [
    "import pandas as pd\n",
    "import tensorflow as tf\n",
    "\n",
    "model = tf.keras.models.load_model(\"./coverimage/Saved_Model/ResNet50_covers2.h5\")\n",
    "tfilenames = in_generator.filenames\n",
    "tnb_samples = len(in_generator)\n",
    "\n",
    "ty_prob=[]\n",
    "ty_act=[]\n",
    "in_generator.reset()\n",
    "for _ in range(tnb_samples):\n",
    "    X_t,Y_t = in_generator.next()\n",
    "    ty_prob.append(model.predict(X_t))\n",
    "    ty_act.append(Y_t)\n",
    "    \n",
    "tpredicted_class = [list(in_generator.class_indices.keys())[i.argmax()]for i in ty_prob]\n",
    "tactual_class = [list(in_generator.class_indices.keys())[i.argmax()] for i in ty_act]\n",
    "\n",
    "print(\"predict class:\",tpredicted_class)"
   ]
  },
  {
   "cell_type": "code",
   "execution_count": null,
   "metadata": {},
   "outputs": [],
   "source": []
  }
 ],
 "metadata": {
  "kernelspec": {
   "display_name": "Python 3",
   "language": "python",
   "name": "python3"
  },
  "language_info": {
   "codemirror_mode": {
    "name": "ipython",
    "version": 3
   },
   "file_extension": ".py",
   "mimetype": "text/x-python",
   "name": "python",
   "nbconvert_exporter": "python",
   "pygments_lexer": "ipython3",
   "version": "3.8.3"
  }
 },
 "nbformat": 4,
 "nbformat_minor": 4
}
